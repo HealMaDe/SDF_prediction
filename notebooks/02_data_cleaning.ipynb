{
  "cells": [
    {
      "cell_type": "code",
      "source": [
        "\"\"\"\n",
        "02_data_cleaning.ipynb\n",
        "\n",
        "This notebook handles the following tasks:\n",
        "- Loads the dataset and inspects it\n",
        "- Identifies and handles duplicate records\n",
        "- Drops unnecessary columns\n",
        "- Filters out invalid cases (e.g., sperm concentration < 2)\n",
        "- Deals with missing values and imputes certain columns (KNN Imputation)\n",
        "- Saves the cleaned dataset\n",
        "\"\"\""
      ],
      "metadata": {
        "colab": {
          "base_uri": "https://localhost:8080/",
          "height": 105
        },
        "id": "YetiOQSIkAf2",
        "outputId": "b102f35b-0b3b-4120-d0b3-0b641e6a6453"
      },
      "execution_count": null,
      "outputs": [
        {
          "output_type": "execute_result",
          "data": {
            "text/plain": [
              "\"\\n02_data_cleaning.ipynb\\n\\nThis notebook handles the following tasks:\\n- Loads the dataset and inspects it\\n- Identifies and handles duplicate records\\n- Drops unnecessary columns\\n- Filters out invalid cases (e.g., sperm concentration < 2)\\n- Deals with missing values and imputes certain columns (KNN Imputation)\\n- Saves the cleaned dataset\\n\\nKey steps:\\n- Remove duplicates from 'Case Number' column\\n- Drop columns that are not needed\\n- Filter out patients based on sperm concentration\\n- Handle missing data via KNN imputation\\n\""
            ],
            "application/vnd.google.colaboratory.intrinsic+json": {
              "type": "string"
            }
          },
          "metadata": {},
          "execution_count": 1
        }
      ]
    },
    {
      "cell_type": "code",
      "source": [
        "import numpy as np\n",
        "import pandas as pd\n",
        "import matplotlib.pyplot as plt\n",
        "import seaborn as sns\n",
        "from sklearn.preprocessing import MinMaxScaler\n",
        "from sklearn.impute import KNNImputer"
      ],
      "metadata": {
        "id": "jSEnwqQ8K2Bo"
      },
      "execution_count": null,
      "outputs": []
    },
    {
      "cell_type": "code",
      "source": [
        "# ==============================\n",
        "# 1. Load and Inspect Raw Data\n",
        "# =============================="
      ],
      "metadata": {
        "id": "exTM7id3ko4g"
      },
      "execution_count": null,
      "outputs": []
    },
    {
      "cell_type": "code",
      "source": [
        "data = pd.read_pickle('02_train_val_data.pkl')\n",
        "test_data = pd.read_pickle('02_hold_out_test_data.pkl')"
      ],
      "metadata": {
        "id": "gBfiWAko_5tg"
      },
      "execution_count": null,
      "outputs": []
    },
    {
      "cell_type": "code",
      "execution_count": null,
      "metadata": {
        "id": "jNYi2byadlXC"
      },
      "outputs": [],
      "source": [
        "original_shape = data.shape\n",
        "original_shape_test = test_data.shape"
      ]
    },
    {
      "cell_type": "code",
      "source": [
        "# ==============================\n",
        "# 2. Handle Duplicates\n",
        "# =============================="
      ],
      "metadata": {
        "id": "3IUFl-Ookxd_"
      },
      "execution_count": null,
      "outputs": []
    },
    {
      "cell_type": "code",
      "execution_count": null,
      "metadata": {
        "colab": {
          "base_uri": "https://localhost:8080/"
        },
        "id": "eXMpQLDaY1M1",
        "outputId": "d5128cb9-6b1c-44fa-ff48-5381e98ff2d4"
      },
      "outputs": [
        {
          "output_type": "stream",
          "name": "stdout",
          "text": [
            "Number of duplicate case numbers: 0\n",
            "Number of duplicate case numbers: 0\n"
          ]
        }
      ],
      "source": [
        "# Check for duplicates in the 'Case Number' column\n",
        "duplicates = data['Case Number'].duplicated().sum()\n",
        "duplicates_test = test_data['Case Number'].duplicated().sum()\n",
        "\n",
        "print(f\"Number of duplicate case numbers: {duplicates}\")\n",
        "print(f\"Number of duplicate case numbers: {duplicates_test}\")"
      ]
    },
    {
      "cell_type": "code",
      "source": [
        "# ==============================\n",
        "# 3. Remove Unnecessary Columns\n",
        "# =============================="
      ],
      "metadata": {
        "id": "EmQCk_JMk48v"
      },
      "execution_count": null,
      "outputs": []
    },
    {
      "cell_type": "code",
      "execution_count": null,
      "metadata": {
        "id": "XQBYPPOfemJQ"
      },
      "outputs": [],
      "source": [
        "# saved for potential visualization\n",
        "patient_ID = data.drop(columns=['Case Number'])\n",
        "patient_ID_test = test_data.drop(columns=['Case Number'])\n",
        "\n",
        "# Remove unnecessary columns\n",
        "cleaned_data = data.drop(columns=['Case Number'])\n",
        "cleaned_test_data = test_data.drop(columns=['Case Number'])"
      ]
    },
    {
      "cell_type": "code",
      "source": [
        "# ==============================\n",
        "# 4. Filter Invalid Cases (e.g., sperm concentration < 2)\n",
        "# =============================="
      ],
      "metadata": {
        "id": "i5RNLhbVk-Lv"
      },
      "execution_count": null,
      "outputs": []
    },
    {
      "cell_type": "code",
      "source": [
        "# Remove patients with sperm concentration below 2\n",
        "cleaned_data = cleaned_data[cleaned_data['Sperm Concentration'] >= 2]"
      ],
      "metadata": {
        "id": "yWiNc4WNBXQW"
      },
      "execution_count": null,
      "outputs": []
    },
    {
      "cell_type": "code",
      "source": [
        "# ==============================\n",
        "# 5. Handle Missing Values\n",
        "# =============================="
      ],
      "metadata": {
        "id": "_2wxM45dlCir"
      },
      "execution_count": null,
      "outputs": []
    },
    {
      "cell_type": "code",
      "execution_count": null,
      "metadata": {
        "colab": {
          "base_uri": "https://localhost:8080/",
          "height": 460
        },
        "id": "hoJhEFGbnv4k",
        "outputId": "8dfa4a15-7e5b-4f0f-e857-86b621611459"
      },
      "outputs": [
        {
          "output_type": "execute_result",
          "data": {
            "text/plain": [
              "Semen Volume                  0\n",
              "DFI                         170\n",
              "TUNEL                        37\n",
              "Sperm Concentration           0\n",
              "Total Motility                0\n",
              "Progressive Motility          0\n",
              "Non-progressive Motility      0\n",
              "Immotile Sperm                0\n",
              "Abnormal Morphology          26\n",
              "Age                         262\n",
              "Sperm Count                   0\n",
              "TMS                           0\n",
              "dtype: int64"
            ],
            "text/html": [
              "<div>\n",
              "<style scoped>\n",
              "    .dataframe tbody tr th:only-of-type {\n",
              "        vertical-align: middle;\n",
              "    }\n",
              "\n",
              "    .dataframe tbody tr th {\n",
              "        vertical-align: top;\n",
              "    }\n",
              "\n",
              "    .dataframe thead th {\n",
              "        text-align: right;\n",
              "    }\n",
              "</style>\n",
              "<table border=\"1\" class=\"dataframe\">\n",
              "  <thead>\n",
              "    <tr style=\"text-align: right;\">\n",
              "      <th></th>\n",
              "      <th>0</th>\n",
              "    </tr>\n",
              "  </thead>\n",
              "  <tbody>\n",
              "    <tr>\n",
              "      <th>Semen Volume</th>\n",
              "      <td>0</td>\n",
              "    </tr>\n",
              "    <tr>\n",
              "      <th>DFI</th>\n",
              "      <td>170</td>\n",
              "    </tr>\n",
              "    <tr>\n",
              "      <th>TUNEL</th>\n",
              "      <td>37</td>\n",
              "    </tr>\n",
              "    <tr>\n",
              "      <th>Sperm Concentration</th>\n",
              "      <td>0</td>\n",
              "    </tr>\n",
              "    <tr>\n",
              "      <th>Total Motility</th>\n",
              "      <td>0</td>\n",
              "    </tr>\n",
              "    <tr>\n",
              "      <th>Progressive Motility</th>\n",
              "      <td>0</td>\n",
              "    </tr>\n",
              "    <tr>\n",
              "      <th>Non-progressive Motility</th>\n",
              "      <td>0</td>\n",
              "    </tr>\n",
              "    <tr>\n",
              "      <th>Immotile Sperm</th>\n",
              "      <td>0</td>\n",
              "    </tr>\n",
              "    <tr>\n",
              "      <th>Abnormal Morphology</th>\n",
              "      <td>26</td>\n",
              "    </tr>\n",
              "    <tr>\n",
              "      <th>Age</th>\n",
              "      <td>262</td>\n",
              "    </tr>\n",
              "    <tr>\n",
              "      <th>Sperm Count</th>\n",
              "      <td>0</td>\n",
              "    </tr>\n",
              "    <tr>\n",
              "      <th>TMS</th>\n",
              "      <td>0</td>\n",
              "    </tr>\n",
              "  </tbody>\n",
              "</table>\n",
              "</div><br><label><b>dtype:</b> int64</label>"
            ]
          },
          "metadata": {},
          "execution_count": 8
        }
      ],
      "source": [
        "# Check for missing values\n",
        "cleaned_data.isnull().sum()"
      ]
    },
    {
      "cell_type": "code",
      "source": [
        "# Visualize missing data\n",
        "sns.heatmap(cleaned_data.isnull(), cbar=False, cmap='viridis')\n",
        "plt.title('Heatmap of Missing Data')\n",
        "plt.show()"
      ],
      "metadata": {
        "colab": {
          "base_uri": "https://localhost:8080/",
          "height": 607
        },
        "id": "-ZeOunDxS7gg",
        "outputId": "75db51d7-bc07-4db6-f445-25cf2644dfec"
      },
      "execution_count": null,
      "outputs": [
        {
          "output_type": "display_data",
          "data": {
            "text/plain": [
              "<Figure size 640x480 with 1 Axes>"
            ],
            "image/png": "[encoded data removed]"
          },
          "metadata": {}
        }
      ]
    },
    {
      "cell_type": "code",
      "source": [
        "# Drop rows with missing 'DFI' or 'TUNEL'\n",
        "cleaned_data.dropna(subset=['DFI'], inplace=True)\n",
        "cleaned_data.dropna(subset=['TUNEL'], inplace=True)\n",
        "\n",
        "# Verify no missing values after drop\n",
        "print(\"Missing values after cleaning:\")\n",
        "print(cleaned_data.isnull().sum())"
      ],
      "metadata": {
        "id": "QGWX6X5dcBLR",
        "colab": {
          "base_uri": "https://localhost:8080/"
        },
        "outputId": "eb366f24-1629-4ab5-96a3-bde0ecfcb300"
      },
      "execution_count": null,
      "outputs": [
        {
          "output_type": "stream",
          "name": "stdout",
          "text": [
            "Missing values after cleaning:\n",
            "Semen Volume                  0\n",
            "DFI                           0\n",
            "TUNEL                         0\n",
            "Sperm Concentration           0\n",
            "Total Motility                0\n",
            "Progressive Motility          0\n",
            "Non-progressive Motility      0\n",
            "Immotile Sperm                0\n",
            "Abnormal Morphology          26\n",
            "Age                         255\n",
            "Sperm Count                   0\n",
            "TMS                           0\n",
            "dtype: int64\n"
          ]
        }
      ]
    },
    {
      "cell_type": "code",
      "source": [
        "def knn_impute(data, columns_to_impute):\n",
        "    # Separate numerical and categorical columns\n",
        "    numeric_columns = data.select_dtypes(include=['number']).columns.tolist()\n",
        "    categorical_columns = data.select_dtypes(exclude=['number']).columns.tolist()\n",
        "\n",
        "    # Keep track of the original indices\n",
        "    original_indices = data.index\n",
        "\n",
        "    # Split the data into numerical and categorical parts\n",
        "    data_numeric = data[numeric_columns]\n",
        "    data_categorical = data[categorical_columns]\n",
        "\n",
        "    # Apply scaling only to the columns that need imputation\n",
        "    features_to_scale = [col for col in columns_to_impute if col in numeric_columns]\n",
        "    scaler = MinMaxScaler()\n",
        "    data_numeric_scaled = data_numeric.copy()\n",
        "\n",
        "    # Scale only the columns that need imputation\n",
        "    if features_to_scale:\n",
        "        data_numeric_scaled[features_to_scale] = scaler.fit_transform(data_numeric[features_to_scale])\n",
        "\n",
        "    # Apply KNN imputation only to the imputation columns\n",
        "    imputer = KNNImputer(n_neighbors=5)\n",
        "    data_numeric_imputed = data_numeric.copy()\n",
        "    data_numeric_imputed[columns_to_impute] = imputer.fit_transform(data_numeric_scaled[columns_to_impute])\n",
        "\n",
        "    # Revert scaling back to the original values only for imputed columns\n",
        "    if features_to_scale:\n",
        "        data_numeric_imputed[features_to_scale] = scaler.inverse_transform(data_numeric_imputed[features_to_scale])\n",
        "\n",
        "    # Concatenate with categorical columns\n",
        "    data_imputed = pd.concat([data_numeric_imputed, data_categorical], axis=1)\n",
        "\n",
        "    # Ensure indices are preserved\n",
        "    data_imputed.index = original_indices\n",
        "\n",
        "    # Round numerical columns to 1 decimal point for consistency (only for imputed columns)\n",
        "    for col in columns_to_impute:\n",
        "        if col in data_imputed.columns:\n",
        "            data_imputed[col] = data_imputed[col].round(1)\n",
        "\n",
        "    return data_imputed"
      ],
      "metadata": {
        "id": "z8OPgvsyyGlg"
      },
      "execution_count": null,
      "outputs": []
    },
    {
      "cell_type": "code",
      "source": [
        "# Impute missing 'Abnormal Morphology' and 'Age'\n",
        "imputed_data = knn_impute(cleaned_data,['Abnormal Morphology', 'Age'])"
      ],
      "metadata": {
        "id": "Qymz1xe7Akls"
      },
      "execution_count": null,
      "outputs": []
    },
    {
      "cell_type": "code",
      "source": [
        "# ==============================\n",
        "# 7. Final Check and Save Cleaned Data\n",
        "# =============================="
      ],
      "metadata": {
        "id": "ONhb9D2klYJo"
      },
      "execution_count": null,
      "outputs": []
    },
    {
      "cell_type": "code",
      "source": [
        "# Final check for missing values\n",
        "print(imputed_data.isnull().sum())"
      ],
      "metadata": {
        "colab": {
          "base_uri": "https://localhost:8080/"
        },
        "id": "R5ljjEILppU1",
        "outputId": "e3c89d2a-9d10-428a-ef71-be26a60329b5"
      },
      "execution_count": null,
      "outputs": [
        {
          "output_type": "stream",
          "name": "stdout",
          "text": [
            "Semen Volume                0\n",
            "DFI                         0\n",
            "TUNEL                       0\n",
            "Sperm Concentration         0\n",
            "Total Motility              0\n",
            "Progressive Motility        0\n",
            "Non-progressive Motility    0\n",
            "Immotile Sperm              0\n",
            "Abnormal Morphology         0\n",
            "Age                         0\n",
            "Sperm Count                 0\n",
            "TMS                         0\n",
            "dtype: int64\n"
          ]
        }
      ]
    },
    {
      "cell_type": "code",
      "source": [
        "# Compare shape before and after cleaning\n",
        "cleaned_shape = imputed_data.shape\n",
        "print(f\"✅ Original data size: {original_shape}\")\n",
        "print(f\"✅ Test data size: {original_shape_test}\")\n",
        "print(f\"✅ Cleaned data size: {cleaned_shape}\")\n",
        "print(f\"✅ Cleaned Test data size: {cleaned_test_data.shape}\")\n",
        "print(f\"✅ Number of missing patinets after imputation: {data.isnull().sum().sum()}\")\n",
        "print(f\"✅ Percentage of losing data: {round((original_shape[0]-cleaned_shape[0])*100/original_shape[0],2)}%\")\n",
        "\n",
        "# Save the cleaned dataset\n",
        "imputed_data.to_pickle('03_cleaned_data.pkl')\n",
        "cleaned_test_data.to_pickle('03_cleaned_test_data.pkl')"
      ],
      "metadata": {
        "colab": {
          "base_uri": "https://localhost:8080/"
        },
        "id": "RRvXyKzrld1W",
        "outputId": "3cb372d1-3a85-4fb8-f021-3811311014b5"
      },
      "execution_count": null,
      "outputs": [
        {
          "output_type": "stream",
          "name": "stdout",
          "text": [
            "✅ Original data size: (9003, 13)\n",
            "✅ Test data size: (1000, 13)\n",
            "✅ Cleaned data size: (8716, 12)\n",
            "✅ Cleaned Test data size: (1000, 12)\n",
            "✅ Number of missing patinets after imputation: 569\n",
            "✅ Percentage of losing data: 3.19%\n"
          ]
        }
      ]
    }
  ],
  "metadata": {
    "colab": {
      "provenance": []
    },
    "kernelspec": {
      "display_name": "Python 3",
      "name": "python3"
    },
    "language_info": {
      "name": "python"
    }
  },
  "nbformat": 4,
  "nbformat_minor": 0
}