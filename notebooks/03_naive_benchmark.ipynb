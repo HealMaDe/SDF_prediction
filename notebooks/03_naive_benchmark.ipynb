{
  "nbformat": 4,
  "nbformat_minor": 0,
  "metadata": {
    "colab": {
      "provenance": []
    },
    "kernelspec": {
      "name": "python3",
      "display_name": "Python 3"
    },
    "language_info": {
      "name": "python"
    }
  },
  "cells": [
    {
      "cell_type": "code",
      "source": [
        "\"\"\"\n",
        "03_baseline_benchmark.ipynb\n",
        "\n",
        "This notebook establishes baseline regression performance\n",
        "using DummyRegressor. This helps contextualize the\n",
        "performance of more complex models in future notebooks.\n",
        "\n",
        "Key Steps:\n",
        "- Load cleaned data\n",
        "- Define input features and targets\n",
        "- Benchmark with DummyRegressor for DFI and TUNEL\n",
        "- Evaluate using cross-validation with appropriate metrics\n",
        "\"\"\""
      ],
      "metadata": {
        "colab": {
          "base_uri": "https://localhost:8080/",
          "height": 87
        },
        "id": "4DpBDL4L5Qoq",
        "outputId": "3382ba61-3f95-40ad-ecaa-4cfd142aab0a"
      },
      "execution_count": null,
      "outputs": [
        {
          "output_type": "execute_result",
          "data": {
            "text/plain": [
              "'\\n03_baseline_benchmark.ipynb\\n\\nThis notebook establishes baseline regression and classification performance\\nusing DummyRegressor. This helps contextualize the\\nperformance of more complex models in future notebooks.\\n\\nKey Steps:\\n- Load cleaned data\\n- Define input features and targets (regression and classification)\\n- Benchmark with DummyRegressor for DFI and TUNEL\\n- Evaluate using cross-validation with appropriate metrics\\n'"
            ],
            "application/vnd.google.colaboratory.intrinsic+json": {
              "type": "string"
            }
          },
          "metadata": {},
          "execution_count": 1
        }
      ]
    },
    {
      "cell_type": "code",
      "source": [
        "import pandas as pd\n",
        "import numpy as np\n",
        "from sklearn.dummy import DummyRegressor\n",
        "from sklearn.model_selection import KFold, cross_val_score\n",
        "from sklearn.metrics import (\n",
        "    make_scorer, mean_squared_error, mean_absolute_error\n",
        "    )"
      ],
      "metadata": {
        "id": "6KpcB_FPyAa8"
      },
      "execution_count": null,
      "outputs": []
    },
    {
      "cell_type": "code",
      "source": [
        "# ==========================================\n",
        "# 1. Load Data and Define Feature Sets\n",
        "# =========================================="
      ],
      "metadata": {
        "id": "dqxGAOUm5r-R"
      },
      "execution_count": null,
      "outputs": []
    },
    {
      "cell_type": "code",
      "source": [
        "data = pd.read_pickle('03_cleaned_data.pkl')\n",
        "test_data = pd.read_pickle('03_cleaned_test_data.pkl')"
      ],
      "metadata": {
        "id": "uolvOHIuKgcb"
      },
      "execution_count": null,
      "outputs": []
    },
    {
      "cell_type": "code",
      "source": [
        "input_features = ['Semen Volume', 'Sperm Concentration', 'Sperm Count', 'Total Motility',\n",
        "                   'Progressive Motility', 'Non-progressive Motility', 'Immotile Sperm',\n",
        "                   'Abnormal Morphology', 'Age','TMS']\n",
        "reg_targets = ['DFI', 'TUNEL']"
      ],
      "metadata": {
        "id": "ywwXphGLIzBp"
      },
      "execution_count": null,
      "outputs": []
    },
    {
      "cell_type": "code",
      "source": [
        "X = data[input_features]\n",
        "y_reg = data[reg_targets]\n",
        "\n",
        "X_test = test_data[input_features]\n",
        "y_reg_test = test_data[reg_targets]"
      ],
      "metadata": {
        "id": "RhAkNGd2Wf_K"
      },
      "execution_count": null,
      "outputs": []
    },
    {
      "cell_type": "code",
      "source": [
        "print(f\"Features (X): {X.shape}\")\n",
        "print(f\"Regression Targets (y_reg): {y_reg.shape}\")\n",
        "print()\n",
        "print(f\"Features (X_test): {X_test.shape}\")\n",
        "print(f\"Regression Targets (y_reg_test): {y_reg_test.shape}\")"
      ],
      "metadata": {
        "colab": {
          "base_uri": "https://localhost:8080/"
        },
        "id": "Pn9oWfruWf9I",
        "outputId": "8dbcc4cc-425a-4f79-a538-e33e48aef5ea"
      },
      "execution_count": null,
      "outputs": [
        {
          "output_type": "stream",
          "name": "stdout",
          "text": [
            "Features (X): (8716, 10)\n",
            "Regression Targets (y_reg): (8716, 2)\n",
            "\n",
            "Features (X_test): (1000, 10)\n",
            "Regression Targets (y_reg_test): (1000, 2)\n"
          ]
        }
      ]
    },
    {
      "cell_type": "code",
      "source": [
        "# ==========================================\n",
        "# 2. Baseline Regression with DummyRegressor\n",
        "# =========================================="
      ],
      "metadata": {
        "id": "WNY624ZZ58EQ"
      },
      "execution_count": null,
      "outputs": []
    },
    {
      "cell_type": "code",
      "source": [
        "# Define scorers\n",
        "mse_scorer = make_scorer(mean_squared_error, greater_is_better=False)\n",
        "mae_scorer = make_scorer(mean_absolute_error, greater_is_better=False)\n",
        "\n",
        "# 10-fold cross-validation\n",
        "cv = KFold(n_splits=10, shuffle=True, random_state=42)\n",
        "\n",
        "#Iterate Through Regression targets\n",
        "for target in reg_targets:\n",
        "    y = y_reg[target]\n",
        "    y_test = y_reg_test[target]\n",
        "    model = DummyRegressor(strategy=\"mean\")\n",
        "\n",
        "    mse = cross_val_score(model, X, y, cv=cv, scoring=mse_scorer)\n",
        "    mae = cross_val_score(model, X, y, cv=cv, scoring=mae_scorer)\n",
        "\n",
        "    mse_test = cross_val_score(model, X_test, y_test, cv=cv, scoring=mse_scorer)\n",
        "    mae_test = cross_val_score(model, X_test, y_test, cv=cv, scoring=mae_scorer)\n",
        "\n",
        "    print(f\"\\n📉 Regression Target: {target}\")\n",
        "    print(f\"MAE: {np.mean(-mae):.4f}\")\n",
        "    print(f\"MSE: {np.mean(-mse):.4f}\")\n",
        "    print(f\"RMSE: {np.sqrt(np.mean(-mse)):.4f}\")\n",
        "    print()\n",
        "    print(f\"Test MAE: {np.mean(-mae_test):.4f}\")\n",
        "    print(f\"Test MSE: {np.mean(-mse_test):.4f}\")\n",
        "    print(f\"Test RMSE: {np.sqrt(np.mean(-mse_test)):.4f}\")"
      ],
      "metadata": {
        "colab": {
          "base_uri": "https://localhost:8080/"
        },
        "id": "a7svlNNrvlt9",
        "outputId": "da3b4ce2-9c0a-4b39-e2ce-e695b29fbd33"
      },
      "execution_count": null,
      "outputs": [
        {
          "output_type": "stream",
          "name": "stdout",
          "text": [
            "\n",
            "📉 Regression Target: DFI\n",
            "MAE: 5.6826\n",
            "MSE: 56.4389\n",
            "RMSE: 7.5126\n",
            "\n",
            "Test MAE: 5.7689\n",
            "Test MSE: 58.7654\n",
            "Test RMSE: 7.6659\n",
            "\n",
            "📉 Regression Target: TUNEL\n",
            "MAE: 4.1684\n",
            "MSE: 37.4276\n",
            "RMSE: 6.1178\n",
            "\n",
            "Test MAE: 4.1373\n",
            "Test MSE: 36.2495\n",
            "Test RMSE: 6.0208\n"
          ]
        }
      ]
    }
  ]
}